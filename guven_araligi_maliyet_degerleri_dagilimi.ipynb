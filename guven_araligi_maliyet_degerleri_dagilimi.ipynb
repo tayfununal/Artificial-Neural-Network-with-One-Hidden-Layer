{
  "nbformat": 4,
  "nbformat_minor": 0,
  "metadata": {
    "colab": {
      "name": "guven_araligi_maliyet_degerleri_dagilimi.ipynb",
      "private_outputs": true,
      "provenance": [],
      "authorship_tag": "ABX9TyNN8RkGC1NGy4hUQ9n0dzYt",
      "include_colab_link": true
    },
    "kernelspec": {
      "name": "python3",
      "display_name": "Python 3"
    },
    "language_info": {
      "name": "python"
    }
  },
  "cells": [
    {
      "cell_type": "markdown",
      "metadata": {
        "id": "view-in-github",
        "colab_type": "text"
      },
      "source": [
        "<a href=\"https://colab.research.google.com/github/tayfununal/Artificial-Neural-Network-with-One-Hidden-Layer/blob/main/guven_araligi_maliyet_degerleri_dagilimi.ipynb\" target=\"_parent\"><img src=\"https://colab.research.google.com/assets/colab-badge.svg\" alt=\"Open In Colab\"/></a>"
      ]
    },
    {
      "cell_type": "code",
      "metadata": {
        "id": "QEbjyhqtUdUN"
      },
      "source": [
        "import numpy as np\n",
        "import pandas as pd\n",
        "import matplotlib.pyplot as plt"
      ],
      "execution_count": null,
      "outputs": []
    },
    {
      "cell_type": "code",
      "metadata": {
        "id": "FzYXqgF5V-87"
      },
      "source": [
        "df = pd.read_excel('/content/1000verili_sonuclar.xlsx',header=0)"
      ],
      "execution_count": null,
      "outputs": []
    },
    {
      "cell_type": "code",
      "metadata": {
        "id": "AXn77PU3WIgZ"
      },
      "source": [
        "df.iloc[19][1:]"
      ],
      "execution_count": null,
      "outputs": []
    },
    {
      "cell_type": "code",
      "metadata": {
        "id": "09OfcWtvarU0"
      },
      "source": [
        "df.iloc[0][1:][0]"
      ],
      "execution_count": null,
      "outputs": []
    },
    {
      "cell_type": "code",
      "metadata": {
        "id": "k0eCE6Gec_cn"
      },
      "source": [
        "y = [i for i in range(0,21)]\n",
        "y"
      ],
      "execution_count": null,
      "outputs": []
    },
    {
      "cell_type": "code",
      "metadata": {
        "id": "tvDv9pU_W1Ve"
      },
      "source": [
        "y = [i for i in range(0,21)]\n",
        "for i in range(0,20):\n",
        "  for j in range(0,100):\n",
        "    x = np.array(df.iloc[i][1:][j])\n",
        "    plt.scatter(y[i+1],x)\n",
        "\n",
        "dim=np.arange(0,21,1);\n",
        "plt.xticks(dim)\n",
        "plt.grid()\n",
        "plt.ylabel('Ortalama Maliyet Değerleri',fontsize=17,fontweight=\"bold\",fontname=\"Times New Roman\")\n",
        "plt.xlabel('Gizli Katmanda Bulunan Nöron Sayısı',fontsize=17,fontweight=\"bold\",fontname=\"Times New Roman\")\n",
        "plt.show()"
      ],
      "execution_count": null,
      "outputs": []
    },
    {
      "cell_type": "code",
      "metadata": {
        "id": "dcLMi2k0YuVB"
      },
      "source": [
        ""
      ],
      "execution_count": null,
      "outputs": []
    }
  ]
}