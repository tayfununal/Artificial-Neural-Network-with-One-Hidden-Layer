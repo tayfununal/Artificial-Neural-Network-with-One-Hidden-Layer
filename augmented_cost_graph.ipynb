{
  "nbformat": 4,
  "nbformat_minor": 0,
  "metadata": {
    "colab": {
      "name": "augmented_cost_graph.ipynb",
      "private_outputs": true,
      "provenance": [],
      "authorship_tag": "ABX9TyN+zyeypclsw6R+gpWECElb",
      "include_colab_link": true
    },
    "kernelspec": {
      "name": "python3",
      "display_name": "Python 3"
    },
    "language_info": {
      "name": "python"
    }
  },
  "cells": [
    {
      "cell_type": "markdown",
      "metadata": {
        "id": "view-in-github",
        "colab_type": "text"
      },
      "source": [
        "<a href=\"https://colab.research.google.com/github/tayfununal/Artificial-Neural-Network-with-One-Hidden-Layer/blob/main/augmented_cost_graph.ipynb\" target=\"_parent\"><img src=\"https://colab.research.google.com/assets/colab-badge.svg\" alt=\"Open In Colab\"/></a>"
      ]
    },
    {
      "cell_type": "code",
      "metadata": {
        "id": "ituTf9eRGUHR"
      },
      "source": [
        "import pandas as pd\n",
        "import numpy as np\n",
        "import matplotlib.pyplot as plt\n",
        "\n",
        "maliyet = pd.read_excel('1000verili_sonuclar.xlsx')\n",
        "\n",
        "x = np.array(maliyet.iloc[19,:][1:])\n",
        "np.sum(x,axis=0)/100.\n",
        "\n",
        "maliyet = np.array(np.sum(maliyet, axis=1))/100.\n",
        "\n",
        "# baskı maliyet\n",
        "baski_maliyet = pd.read_excel('baski_maliyet_exp_1000data.xlsx')\n",
        "\n",
        "x = np.array(baski_maliyet.iloc[19,:][1:])\n",
        "np.sum(x,axis=0)/100.\n",
        "\n",
        "baski_maliyet = np.array(np.sum(baski_maliyet, axis=1))/100.\n",
        "print(np.round(baski_maliyet,6))\n",
        "x1_axes = [i for i in range(1,21)]\n",
        "x2_axes = [i for i in range(1,21)]\n",
        "plt.plot(x1_axes, maliyet, color='blue', marker='o')\n",
        "plt.plot(x2_axes, baski_maliyet[1:], color='red', marker='o')\n",
        "#plt.title('Maliyet vs Baskı Maliyet', fontsize=9)\n",
        "plt.xlabel('Number of Neurons in the Hidden Layer',fontsize=15,fontweight=\"bold\",fontname=\"Times New Roman\")    #Gizli Katmandaki Nöron Sayısı\n",
        "plt.ylabel('Average Cost and\\nAugmented Cost Values',fontsize=15,fontweight=\"bold\",fontname=\"Times New Roman\") #Ortalama Maliyet ve Baskı Maliyet Değerleri\n",
        "plt.xticks(x2_axes)\n",
        "plt.grid(linestyle='-', linewidth=1)\n",
        "\n",
        "plt.legend(['Average Cost(n)', 'Augmented Cost(n+1)'], loc=('upper right'),fontsize=15)\n",
        "plt.show()\n",
        "\n",
        "\n",
        "\n",
        "x2_axes = [i for i in range(1,21)]\n",
        "plt.plot(x1_axes, maliyet, color='blue', marker='o')\n",
        "plt.plot(x2_axes, baski_maliyet[0:-1], color='red', marker='o')\n",
        "#plt.title('Maliyet vs Baskı Maliyet', fontsize=9)\n",
        "plt.xlabel('Gizli Katmandaki Nöron Sayısı',fontsize=9)\n",
        "plt.ylabel('Ortalama Maliyet ve Baskı Maliyet Değerleri',fontsize=9)\n",
        "plt.xticks(x2_axes)\n",
        "plt.grid(linestyle='-', linewidth=1)\n",
        "\n",
        "plt.legend(['Ortalama Maliyet(n)', 'Ortalama Baskı Maliyet(n)'], loc=('upper right'))\n",
        "plt.show()\n",
        "\n",
        "print(baski_maliyet[1:]-maliyet)"
      ],
      "execution_count": null,
      "outputs": []
    }
  ]
}