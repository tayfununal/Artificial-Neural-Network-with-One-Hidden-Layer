{
  "nbformat": 4,
  "nbformat_minor": 0,
  "metadata": {
    "colab": {
      "name": "new_revision_without_baski.ipynb",
      "provenance": [],
      "authorship_tag": "ABX9TyOc74CZ1yohn0uXWMaxnq8h",
      "include_colab_link": true
    },
    "kernelspec": {
      "name": "python3",
      "display_name": "Python 3"
    },
    "language_info": {
      "name": "python"
    },
    "accelerator": "GPU",
    "gpuClass": "standard"
  },
  "cells": [
    {
      "cell_type": "markdown",
      "metadata": {
        "id": "view-in-github",
        "colab_type": "text"
      },
      "source": [
        "<a href=\"https://colab.research.google.com/github/tayfununal/Artificial-Neural-Network-with-One-Hidden-Layer/blob/main/new_revision_without_baski.ipynb\" target=\"_parent\"><img src=\"https://colab.research.google.com/assets/colab-badge.svg\" alt=\"Open In Colab\"/></a>"
      ]
    },
    {
      "cell_type": "code",
      "execution_count": 23,
      "metadata": {
        "colab": {
          "base_uri": "https://localhost:8080/"
        },
        "id": "GjBDi21EIhYb",
        "outputId": "4b4460ce-6a81-441a-b6d7-b08c3e5be0e7"
      },
      "outputs": [
        {
          "output_type": "stream",
          "name": "stdout",
          "text": [
            "Looking in indexes: https://pypi.org/simple, https://us-python.pkg.dev/colab-wheels/public/simple/\n",
            "Requirement already satisfied: playground-data in /usr/local/lib/python3.7/dist-packages (1.1.1)\n",
            "Requirement already satisfied: numpy in /usr/local/lib/python3.7/dist-packages (from playground-data) (1.21.6)\n",
            "Requirement already satisfied: matplotlib in /usr/local/lib/python3.7/dist-packages (from playground-data) (3.2.2)\n",
            "Requirement already satisfied: kiwisolver>=1.0.1 in /usr/local/lib/python3.7/dist-packages (from matplotlib->playground-data) (1.4.3)\n",
            "Requirement already satisfied: pyparsing!=2.0.4,!=2.1.2,!=2.1.6,>=2.0.1 in /usr/local/lib/python3.7/dist-packages (from matplotlib->playground-data) (3.0.9)\n",
            "Requirement already satisfied: cycler>=0.10 in /usr/local/lib/python3.7/dist-packages (from matplotlib->playground-data) (0.11.0)\n",
            "Requirement already satisfied: python-dateutil>=2.1 in /usr/local/lib/python3.7/dist-packages (from matplotlib->playground-data) (2.8.2)\n",
            "Requirement already satisfied: typing-extensions in /usr/local/lib/python3.7/dist-packages (from kiwisolver>=1.0.1->matplotlib->playground-data) (4.1.1)\n",
            "Requirement already satisfied: six>=1.5 in /usr/local/lib/python3.7/dist-packages (from python-dateutil>=2.1->matplotlib->playground-data) (1.15.0)\n"
          ]
        }
      ],
      "source": [
        "!pip install playground-data"
      ]
    },
    {
      "cell_type": "code",
      "source": [
        "import numpy as np\n",
        "import matplotlib.pyplot as plt\n",
        "import pandas as pd\n",
        "import plygdata as pg\n",
        "import json\n",
        "import requests"
      ],
      "metadata": {
        "id": "ly-RUSqBIoX-"
      },
      "execution_count": 24,
      "outputs": []
    },
    {
      "cell_type": "code",
      "source": [
        "pg.dataset.random.seed(8)\n",
        "Datas = pg.dataset.DataGenerator.classify_xor(1000,noise=0.1)"
      ],
      "metadata": {
        "id": "eV4bAdurIoak"
      },
      "execution_count": 25,
      "outputs": []
    },
    {
      "cell_type": "code",
      "source": [
        "def initialization_parameters(x, y, num_node, random_seeds_one, random_seeds_two):\n",
        "    np.random.seed(random_seeds_one)\n",
        "    W1 = np.random.randn(num_node * x.shape[0]).reshape(num_node, x.shape[0])\n",
        "    b1 = np.zeros((num_node, 1))\n",
        "\n",
        "    np.random.seed(random_seeds_two)\n",
        "    W2 = np.random.randn(y.shape[0], num_node)\n",
        "    b2 = np.zeros((y.shape[0], 1))\n",
        "\n",
        "    assert W1.shape == (num_node, x.shape[0])\n",
        "    assert b1.shape == (num_node, 1)\n",
        "\n",
        "    assert W2.shape == (y.shape[0], num_node)\n",
        "    assert b2.shape == (y.shape[0], 1)\n",
        "\n",
        "    parameters = {'W1': W1,\n",
        "                  'b1': b1,\n",
        "                  'W2': W2,\n",
        "                  'b2': b2}\n",
        "    return parameters\n",
        "\n",
        "def sigmoid(x):\n",
        "    return 1 / (1 + np.exp(-x))\n",
        "\n",
        "\n",
        "def relu(x):\n",
        "    return np.maximum(0, x)\n",
        "\n",
        "\n",
        "def reluDerivative(x):\n",
        "    x[x <= 0] = 0\n",
        "    x[x > 0] = 1\n",
        "    return x\n",
        "\n",
        "def forward_prop(x, parameters):\n",
        "    W1 = parameters['W1']\n",
        "    b1 = parameters['b1']\n",
        "    W2 = parameters['W2']\n",
        "    b2 = parameters['b2']\n",
        "\n",
        "    Z1 = np.dot(W1, x) + b1\n",
        "    A1 = relu(Z1)\n",
        "    Z2 = np.dot(W2, A1) + b2\n",
        "    A2 = sigmoid(Z2)\n",
        "\n",
        "    assert (A2.shape == (1, x.shape[1]))\n",
        "    cache = {\n",
        "        'Z1': Z1,\n",
        "        'A1': A1,\n",
        "        'Z2': Z2,\n",
        "        'A2': A2\n",
        "    }\n",
        "    return A2, cache\n",
        "\n",
        "def backward_prop(x, y, parameters, cache, learning_rate=0.1):\n",
        "    m = y.shape[1]\n",
        "\n",
        "    W1 = parameters['W1']\n",
        "    b1 = parameters['b1']\n",
        "    W2 = parameters['W2']\n",
        "    b2 = parameters['b2']\n",
        "\n",
        "    A1 = cache['A1']\n",
        "    A2 = cache['A2']\n",
        "\n",
        "    # Calculations of backward propagation: dW1, db1, dW2, db2\n",
        "    dZ2 = A2 - y\n",
        "    dW2 = (1 / m) * np.dot(dZ2, A1.T)\n",
        "    db2 = (1 / m) * np.sum(dZ2, axis=1, keepdims=True)\n",
        "\n",
        "    dZ1 = np.multiply(np.dot(W2.T, dZ2), reluDerivative(A1))\n",
        "    dW1 = (1 / m) * np.dot(dZ1, x.T)\n",
        "    db1 = (1 / m) * np.sum(dZ1, axis=1, keepdims=True)\n",
        "\n",
        "    # Updating parameters\n",
        "    W1 = W1 - learning_rate * dW1\n",
        "    b1 = b1 - learning_rate * db1\n",
        "    W2 = W2 - learning_rate * dW2\n",
        "    b2 = b2 - learning_rate * db2\n",
        "\n",
        "    parameters = {'W1': W1,\n",
        "                  'b1': b1,\n",
        "                  'W2': W2,\n",
        "                  'b2': b2}\n",
        "    return parameters\n",
        "\n",
        "def cross_entropy_cost(y, A2, parameters):\n",
        "    m = y.shape[1]\n",
        "\n",
        "    W1 = parameters[\"W1\"]\n",
        "    W2 = parameters[\"W2\"]\n",
        "\n",
        "    cross_entropy = np.multiply(np.log(A2 + 1e-15), y) + np.multiply((1 - y), np.log(1 - A2 + 1e-15))\n",
        "    cost = (- 1.0 / m) * np.sum(cross_entropy)\n",
        "\n",
        "    # Squeezing to avoid unnecessary dimensions\n",
        "    cost = np.squeeze(cost)\n",
        "    return cost"
      ],
      "metadata": {
        "id": "X2K8uB6cIodD"
      },
      "execution_count": 26,
      "outputs": []
    },
    {
      "cell_type": "code",
      "source": [
        "def nn_model(x, y, parameters, number_of_iter=1000):\n",
        "    A2, cache = forward_prop(x, parameters)\n",
        "    cost = cross_entropy_cost(y, A2, parameters)\n",
        "    cost_history = []\n",
        "    cost_history.append(cost)\n",
        "\n",
        "    for i in range(1, number_of_iter):\n",
        "        parameters = backward_prop(x, y, parameters, cache, learning_rate=0.6)\n",
        "        A2, cache = forward_prop(x, parameters)\n",
        "        cost = cross_entropy_cost(y, A2, parameters)\n",
        "        cost_history.append(cost)\n",
        "    return cost, parameters, cost_history"
      ],
      "metadata": {
        "id": "Pw6pxzNbIoj-"
      },
      "execution_count": 27,
      "outputs": []
    },
    {
      "cell_type": "code",
      "source": [
        "df = pd.DataFrame(Datas)\n",
        "df = df.sample(frac=1,random_state=1).reset_index(drop=True)\n",
        "df.loc[df.loc[:,2] ==-1,2]=0 #change the label which is 0 to -1\n",
        "# pd.set_option('display.max_rows', df.shape[0] + 1) ---> showing all row"
      ],
      "metadata": {
        "id": "Q4BFeXPXI8et"
      },
      "execution_count": 28,
      "outputs": []
    },
    {
      "cell_type": "code",
      "source": [
        "df1 = df[df[2] == 1]\n",
        "df2 = df[df[2] == 0]\n",
        "\n",
        "fig, ax = plt.subplots(figsize=(4,4), dpi=120)\n",
        "df1.plot.scatter(0 ,1 , s=25, c=\"red\", ax=ax)\n",
        "df2.plot.scatter(0, 1, s=25, c=\"blue\", ax=ax, marker=\"^\")\n",
        "\n",
        "red_circle = plt.Line2D([0], [0], marker='o', color='w', label='y = 1',markerfacecolor='r', markersize=10)\n",
        "blue_circle = plt.Line2D([0], [0], marker='^', color='w', label='y = 0',markerfacecolor='b', markersize=10)\n",
        "ax.legend(handles=[red_circle,blue_circle], bbox_to_anchor=(1.025, 1.13), ncol=2)\n",
        "\n",
        "plt.xlabel(\"$\\mathbf{x_1}$\", fontsize=12, fontweight=\"bold\")\n",
        "plt.ylabel(\"$\\mathbf{x_2}$\", fontsize=12, fontweight=\"bold\")\n",
        "plt.show()"
      ],
      "metadata": {
        "colab": {
          "base_uri": "https://localhost:8080/",
          "height": 497
        },
        "id": "W8xqqsmbI8hD",
        "outputId": "1f431317-8e35-4b17-bb5c-864fc2675189"
      },
      "execution_count": 29,
      "outputs": [
        {
          "output_type": "display_data",
          "data": {
            "text/plain": [
              "<Figure size 480x480 with 1 Axes>"
            ],
            "image/png": "[encoded data removed]"
          },
          "metadata": {
            "needs_background": "light"
          }
        }
      ]
    },
    {
      "cell_type": "code",
      "source": [
        "X = np.array(df[[0,1]]).T\n",
        "Y = np.array(df[[2]]).T"
      ],
      "metadata": {
        "id": "qVovJI6zIomb"
      },
      "execution_count": 30,
      "outputs": []
    },
    {
      "cell_type": "code",
      "source": [
        "np.random.seed(65468)"
      ],
      "metadata": {
        "id": "MjjgCkR3KQYn"
      },
      "execution_count": 31,
      "outputs": []
    },
    {
      "cell_type": "code",
      "source": [
        "sonuc_parameters=[]\n",
        "sonuc_cost=[]\n",
        "for i in range(1,21):\n",
        "  number_of_neuron = i\n",
        "  parameters = initialization_parameters(X, Y, number_of_neuron, int(1), int(1))\n",
        "  print(parameters)\n",
        "  cost, parameters, cost_history = nn_model(X, Y, parameters, number_of_iter=1000)\n",
        "  sonuc_cost.append(cost)\n",
        "  sonuc_parameters.append(parameters)"
      ],
      "metadata": {
        "id": "Z34CcOsfIoo0",
        "outputId": "f8c794d6-31c8-4458-f5a4-1d51996c23a2",
        "colab": {
          "base_uri": "https://localhost:8080/"
        }
      },
      "execution_count": 32,
      "outputs": [
        {
          "output_type": "stream",
          "name": "stdout",
          "text": [
            "{'W1': array([[ 1.62434536, -0.61175641]]), 'b1': array([[0.]]), 'W2': array([[1.62434536]]), 'b2': array([[0.]])}\n",
            "{'W1': array([[ 1.62434536, -0.61175641],\n",
            "       [-0.52817175, -1.07296862]]), 'b1': array([[0.],\n",
            "       [0.]]), 'W2': array([[ 1.62434536, -0.61175641]]), 'b2': array([[0.]])}\n",
            "{'W1': array([[ 1.62434536, -0.61175641],\n",
            "       [-0.52817175, -1.07296862],\n",
            "       [ 0.86540763, -2.3015387 ]]), 'b1': array([[0.],\n",
            "       [0.],\n",
            "       [0.]]), 'W2': array([[ 1.62434536, -0.61175641, -0.52817175]]), 'b2': array([[0.]])}\n",
            "{'W1': array([[ 1.62434536, -0.61175641],\n",
            "       [-0.52817175, -1.07296862],\n",
            "       [ 0.86540763, -2.3015387 ],\n",
            "       [ 1.74481176, -0.7612069 ]]), 'b1': array([[0.],\n",
            "       [0.],\n",
            "       [0.],\n",
            "       [0.]]), 'W2': array([[ 1.62434536, -0.61175641, -0.52817175, -1.07296862]]), 'b2': array([[0.]])}\n",
            "{'W1': array([[ 1.62434536, -0.61175641],\n",
            "       [-0.52817175, -1.07296862],\n",
            "       [ 0.86540763, -2.3015387 ],\n",
            "       [ 1.74481176, -0.7612069 ],\n",
            "       [ 0.3190391 , -0.24937038]]), 'b1': array([[0.],\n",
            "       [0.],\n",
            "       [0.],\n",
            "       [0.],\n",
            "       [0.]]), 'W2': array([[ 1.62434536, -0.61175641, -0.52817175, -1.07296862,  0.86540763]]), 'b2': array([[0.]])}\n",
            "{'W1': array([[ 1.62434536, -0.61175641],\n",
            "       [-0.52817175, -1.07296862],\n",
            "       [ 0.86540763, -2.3015387 ],\n",
            "       [ 1.74481176, -0.7612069 ],\n",
            "       [ 0.3190391 , -0.24937038],\n",
            "       [ 1.46210794, -2.06014071]]), 'b1': array([[0.],\n",
            "       [0.],\n",
            "       [0.],\n",
            "       [0.],\n",
            "       [0.],\n",
            "       [0.]]), 'W2': array([[ 1.62434536, -0.61175641, -0.52817175, -1.07296862,  0.86540763,\n",
            "        -2.3015387 ]]), 'b2': array([[0.]])}\n",
            "{'W1': array([[ 1.62434536, -0.61175641],\n",
            "       [-0.52817175, -1.07296862],\n",
            "       [ 0.86540763, -2.3015387 ],\n",
            "       [ 1.74481176, -0.7612069 ],\n",
            "       [ 0.3190391 , -0.24937038],\n",
            "       [ 1.46210794, -2.06014071],\n",
            "       [-0.3224172 , -0.38405435]]), 'b1': array([[0.],\n",
            "       [0.],\n",
            "       [0.],\n",
            "       [0.],\n",
            "       [0.],\n",
            "       [0.],\n",
            "       [0.]]), 'W2': array([[ 1.62434536, -0.61175641, -0.52817175, -1.07296862,  0.86540763,\n",
            "        -2.3015387 ,  1.74481176]]), 'b2': array([[0.]])}\n",
            "{'W1': array([[ 1.62434536, -0.61175641],\n",
            "       [-0.52817175, -1.07296862],\n",
            "       [ 0.86540763, -2.3015387 ],\n",
            "       [ 1.74481176, -0.7612069 ],\n",
            "       [ 0.3190391 , -0.24937038],\n",
            "       [ 1.46210794, -2.06014071],\n",
            "       [-0.3224172 , -0.38405435],\n",
            "       [ 1.13376944, -1.09989127]]), 'b1': array([[0.],\n",
            "       [0.],\n",
            "       [0.],\n",
            "       [0.],\n",
            "       [0.],\n",
            "       [0.],\n",
            "       [0.],\n",
            "       [0.]]), 'W2': array([[ 1.62434536, -0.61175641, -0.52817175, -1.07296862,  0.86540763,\n",
            "        -2.3015387 ,  1.74481176, -0.7612069 ]]), 'b2': array([[0.]])}\n",
            "{'W1': array([[ 1.62434536, -0.61175641],\n",
            "       [-0.52817175, -1.07296862],\n",
            "       [ 0.86540763, -2.3015387 ],\n",
            "       [ 1.74481176, -0.7612069 ],\n",
            "       [ 0.3190391 , -0.24937038],\n",
            "       [ 1.46210794, -2.06014071],\n",
            "       [-0.3224172 , -0.38405435],\n",
            "       [ 1.13376944, -1.09989127],\n",
            "       [-0.17242821, -0.87785842]]), 'b1': array([[0.],\n",
            "       [0.],\n",
            "       [0.],\n",
            "       [0.],\n",
            "       [0.],\n",
            "       [0.],\n",
            "       [0.],\n",
            "       [0.],\n",
            "       [0.]]), 'W2': array([[ 1.62434536, -0.61175641, -0.52817175, -1.07296862,  0.86540763,\n",
            "        -2.3015387 ,  1.74481176, -0.7612069 ,  0.3190391 ]]), 'b2': array([[0.]])}\n",
            "{'W1': array([[ 1.62434536, -0.61175641],\n",
            "       [-0.52817175, -1.07296862],\n",
            "       [ 0.86540763, -2.3015387 ],\n",
            "       [ 1.74481176, -0.7612069 ],\n",
            "       [ 0.3190391 , -0.24937038],\n",
            "       [ 1.46210794, -2.06014071],\n",
            "       [-0.3224172 , -0.38405435],\n",
            "       [ 1.13376944, -1.09989127],\n",
            "       [-0.17242821, -0.87785842],\n",
            "       [ 0.04221375,  0.58281521]]), 'b1': array([[0.],\n",
            "       [0.],\n",
            "       [0.],\n",
            "       [0.],\n",
            "       [0.],\n",
            "       [0.],\n",
            "       [0.],\n",
            "       [0.],\n",
            "       [0.],\n",
            "       [0.]]), 'W2': array([[ 1.62434536, -0.61175641, -0.52817175, -1.07296862,  0.86540763,\n",
            "        -2.3015387 ,  1.74481176, -0.7612069 ,  0.3190391 , -0.24937038]]), 'b2': array([[0.]])}\n",
            "{'W1': array([[ 1.62434536, -0.61175641],\n",
            "       [-0.52817175, -1.07296862],\n",
            "       [ 0.86540763, -2.3015387 ],\n",
            "       [ 1.74481176, -0.7612069 ],\n",
            "       [ 0.3190391 , -0.24937038],\n",
            "       [ 1.46210794, -2.06014071],\n",
            "       [-0.3224172 , -0.38405435],\n",
            "       [ 1.13376944, -1.09989127],\n",
            "       [-0.17242821, -0.87785842],\n",
            "       [ 0.04221375,  0.58281521],\n",
            "       [-1.10061918,  1.14472371]]), 'b1': array([[0.],\n",
            "       [0.],\n",
            "       [0.],\n",
            "       [0.],\n",
            "       [0.],\n",
            "       [0.],\n",
            "       [0.],\n",
            "       [0.],\n",
            "       [0.],\n",
            "       [0.],\n",
            "       [0.]]), 'W2': array([[ 1.62434536, -0.61175641, -0.52817175, -1.07296862,  0.86540763,\n",
            "        -2.3015387 ,  1.74481176, -0.7612069 ,  0.3190391 , -0.24937038,\n",
            "         1.46210794]]), 'b2': array([[0.]])}\n",
            "{'W1': array([[ 1.62434536, -0.61175641],\n",
            "       [-0.52817175, -1.07296862],\n",
            "       [ 0.86540763, -2.3015387 ],\n",
            "       [ 1.74481176, -0.7612069 ],\n",
            "       [ 0.3190391 , -0.24937038],\n",
            "       [ 1.46210794, -2.06014071],\n",
            "       [-0.3224172 , -0.38405435],\n",
            "       [ 1.13376944, -1.09989127],\n",
            "       [-0.17242821, -0.87785842],\n",
            "       [ 0.04221375,  0.58281521],\n",
            "       [-1.10061918,  1.14472371],\n",
            "       [ 0.90159072,  0.50249434]]), 'b1': array([[0.],\n",
            "       [0.],\n",
            "       [0.],\n",
            "       [0.],\n",
            "       [0.],\n",
            "       [0.],\n",
            "       [0.],\n",
            "       [0.],\n",
            "       [0.],\n",
            "       [0.],\n",
            "       [0.],\n",
            "       [0.]]), 'W2': array([[ 1.62434536, -0.61175641, -0.52817175, -1.07296862,  0.86540763,\n",
            "        -2.3015387 ,  1.74481176, -0.7612069 ,  0.3190391 , -0.24937038,\n",
            "         1.46210794, -2.06014071]]), 'b2': array([[0.]])}\n",
            "{'W1': array([[ 1.62434536, -0.61175641],\n",
            "       [-0.52817175, -1.07296862],\n",
            "       [ 0.86540763, -2.3015387 ],\n",
            "       [ 1.74481176, -0.7612069 ],\n",
            "       [ 0.3190391 , -0.24937038],\n",
            "       [ 1.46210794, -2.06014071],\n",
            "       [-0.3224172 , -0.38405435],\n",
            "       [ 1.13376944, -1.09989127],\n",
            "       [-0.17242821, -0.87785842],\n",
            "       [ 0.04221375,  0.58281521],\n",
            "       [-1.10061918,  1.14472371],\n",
            "       [ 0.90159072,  0.50249434],\n",
            "       [ 0.90085595, -0.68372786]]), 'b1': array([[0.],\n",
            "       [0.],\n",
            "       [0.],\n",
            "       [0.],\n",
            "       [0.],\n",
            "       [0.],\n",
            "       [0.],\n",
            "       [0.],\n",
            "       [0.],\n",
            "       [0.],\n",
            "       [0.],\n",
            "       [0.],\n",
            "       [0.]]), 'W2': array([[ 1.62434536, -0.61175641, -0.52817175, -1.07296862,  0.86540763,\n",
            "        -2.3015387 ,  1.74481176, -0.7612069 ,  0.3190391 , -0.24937038,\n",
            "         1.46210794, -2.06014071, -0.3224172 ]]), 'b2': array([[0.]])}\n",
            "{'W1': array([[ 1.62434536, -0.61175641],\n",
            "       [-0.52817175, -1.07296862],\n",
            "       [ 0.86540763, -2.3015387 ],\n",
            "       [ 1.74481176, -0.7612069 ],\n",
            "       [ 0.3190391 , -0.24937038],\n",
            "       [ 1.46210794, -2.06014071],\n",
            "       [-0.3224172 , -0.38405435],\n",
            "       [ 1.13376944, -1.09989127],\n",
            "       [-0.17242821, -0.87785842],\n",
            "       [ 0.04221375,  0.58281521],\n",
            "       [-1.10061918,  1.14472371],\n",
            "       [ 0.90159072,  0.50249434],\n",
            "       [ 0.90085595, -0.68372786],\n",
            "       [-0.12289023, -0.93576943]]), 'b1': array([[0.],\n",
            "       [0.],\n",
            "       [0.],\n",
            "       [0.],\n",
            "       [0.],\n",
            "       [0.],\n",
            "       [0.],\n",
            "       [0.],\n",
            "       [0.],\n",
            "       [0.],\n",
            "       [0.],\n",
            "       [0.],\n",
            "       [0.],\n",
            "       [0.]]), 'W2': array([[ 1.62434536, -0.61175641, -0.52817175, -1.07296862,  0.86540763,\n",
            "        -2.3015387 ,  1.74481176, -0.7612069 ,  0.3190391 , -0.24937038,\n",
            "         1.46210794, -2.06014071, -0.3224172 , -0.38405435]]), 'b2': array([[0.]])}\n",
            "{'W1': array([[ 1.62434536, -0.61175641],\n",
            "       [-0.52817175, -1.07296862],\n",
            "       [ 0.86540763, -2.3015387 ],\n",
            "       [ 1.74481176, -0.7612069 ],\n",
            "       [ 0.3190391 , -0.24937038],\n",
            "       [ 1.46210794, -2.06014071],\n",
            "       [-0.3224172 , -0.38405435],\n",
            "       [ 1.13376944, -1.09989127],\n",
            "       [-0.17242821, -0.87785842],\n",
            "       [ 0.04221375,  0.58281521],\n",
            "       [-1.10061918,  1.14472371],\n",
            "       [ 0.90159072,  0.50249434],\n",
            "       [ 0.90085595, -0.68372786],\n",
            "       [-0.12289023, -0.93576943],\n",
            "       [-0.26788808,  0.53035547]]), 'b1': array([[0.],\n",
            "       [0.],\n",
            "       [0.],\n",
            "       [0.],\n",
            "       [0.],\n",
            "       [0.],\n",
            "       [0.],\n",
            "       [0.],\n",
            "       [0.],\n",
            "       [0.],\n",
            "       [0.],\n",
            "       [0.],\n",
            "       [0.],\n",
            "       [0.],\n",
            "       [0.]]), 'W2': array([[ 1.62434536, -0.61175641, -0.52817175, -1.07296862,  0.86540763,\n",
            "        -2.3015387 ,  1.74481176, -0.7612069 ,  0.3190391 , -0.24937038,\n",
            "         1.46210794, -2.06014071, -0.3224172 , -0.38405435,  1.13376944]]), 'b2': array([[0.]])}\n",
            "{'W1': array([[ 1.62434536, -0.61175641],\n",
            "       [-0.52817175, -1.07296862],\n",
            "       [ 0.86540763, -2.3015387 ],\n",
            "       [ 1.74481176, -0.7612069 ],\n",
            "       [ 0.3190391 , -0.24937038],\n",
            "       [ 1.46210794, -2.06014071],\n",
            "       [-0.3224172 , -0.38405435],\n",
            "       [ 1.13376944, -1.09989127],\n",
            "       [-0.17242821, -0.87785842],\n",
            "       [ 0.04221375,  0.58281521],\n",
            "       [-1.10061918,  1.14472371],\n",
            "       [ 0.90159072,  0.50249434],\n",
            "       [ 0.90085595, -0.68372786],\n",
            "       [-0.12289023, -0.93576943],\n",
            "       [-0.26788808,  0.53035547],\n",
            "       [-0.69166075, -0.39675353]]), 'b1': array([[0.],\n",
            "       [0.],\n",
            "       [0.],\n",
            "       [0.],\n",
            "       [0.],\n",
            "       [0.],\n",
            "       [0.],\n",
            "       [0.],\n",
            "       [0.],\n",
            "       [0.],\n",
            "       [0.],\n",
            "       [0.],\n",
            "       [0.],\n",
            "       [0.],\n",
            "       [0.],\n",
            "       [0.]]), 'W2': array([[ 1.62434536, -0.61175641, -0.52817175, -1.07296862,  0.86540763,\n",
            "        -2.3015387 ,  1.74481176, -0.7612069 ,  0.3190391 , -0.24937038,\n",
            "         1.46210794, -2.06014071, -0.3224172 , -0.38405435,  1.13376944,\n",
            "        -1.09989127]]), 'b2': array([[0.]])}\n",
            "{'W1': array([[ 1.62434536, -0.61175641],\n",
            "       [-0.52817175, -1.07296862],\n",
            "       [ 0.86540763, -2.3015387 ],\n",
            "       [ 1.74481176, -0.7612069 ],\n",
            "       [ 0.3190391 , -0.24937038],\n",
            "       [ 1.46210794, -2.06014071],\n",
            "       [-0.3224172 , -0.38405435],\n",
            "       [ 1.13376944, -1.09989127],\n",
            "       [-0.17242821, -0.87785842],\n",
            "       [ 0.04221375,  0.58281521],\n",
            "       [-1.10061918,  1.14472371],\n",
            "       [ 0.90159072,  0.50249434],\n",
            "       [ 0.90085595, -0.68372786],\n",
            "       [-0.12289023, -0.93576943],\n",
            "       [-0.26788808,  0.53035547],\n",
            "       [-0.69166075, -0.39675353],\n",
            "       [-0.6871727 , -0.84520564]]), 'b1': array([[0.],\n",
            "       [0.],\n",
            "       [0.],\n",
            "       [0.],\n",
            "       [0.],\n",
            "       [0.],\n",
            "       [0.],\n",
            "       [0.],\n",
            "       [0.],\n",
            "       [0.],\n",
            "       [0.],\n",
            "       [0.],\n",
            "       [0.],\n",
            "       [0.],\n",
            "       [0.],\n",
            "       [0.],\n",
            "       [0.]]), 'W2': array([[ 1.62434536, -0.61175641, -0.52817175, -1.07296862,  0.86540763,\n",
            "        -2.3015387 ,  1.74481176, -0.7612069 ,  0.3190391 , -0.24937038,\n",
            "         1.46210794, -2.06014071, -0.3224172 , -0.38405435,  1.13376944,\n",
            "        -1.09989127, -0.17242821]]), 'b2': array([[0.]])}\n",
            "{'W1': array([[ 1.62434536, -0.61175641],\n",
            "       [-0.52817175, -1.07296862],\n",
            "       [ 0.86540763, -2.3015387 ],\n",
            "       [ 1.74481176, -0.7612069 ],\n",
            "       [ 0.3190391 , -0.24937038],\n",
            "       [ 1.46210794, -2.06014071],\n",
            "       [-0.3224172 , -0.38405435],\n",
            "       [ 1.13376944, -1.09989127],\n",
            "       [-0.17242821, -0.87785842],\n",
            "       [ 0.04221375,  0.58281521],\n",
            "       [-1.10061918,  1.14472371],\n",
            "       [ 0.90159072,  0.50249434],\n",
            "       [ 0.90085595, -0.68372786],\n",
            "       [-0.12289023, -0.93576943],\n",
            "       [-0.26788808,  0.53035547],\n",
            "       [-0.69166075, -0.39675353],\n",
            "       [-0.6871727 , -0.84520564],\n",
            "       [-0.67124613, -0.0126646 ]]), 'b1': array([[0.],\n",
            "       [0.],\n",
            "       [0.],\n",
            "       [0.],\n",
            "       [0.],\n",
            "       [0.],\n",
            "       [0.],\n",
            "       [0.],\n",
            "       [0.],\n",
            "       [0.],\n",
            "       [0.],\n",
            "       [0.],\n",
            "       [0.],\n",
            "       [0.],\n",
            "       [0.],\n",
            "       [0.],\n",
            "       [0.],\n",
            "       [0.]]), 'W2': array([[ 1.62434536, -0.61175641, -0.52817175, -1.07296862,  0.86540763,\n",
            "        -2.3015387 ,  1.74481176, -0.7612069 ,  0.3190391 , -0.24937038,\n",
            "         1.46210794, -2.06014071, -0.3224172 , -0.38405435,  1.13376944,\n",
            "        -1.09989127, -0.17242821, -0.87785842]]), 'b2': array([[0.]])}\n",
            "{'W1': array([[ 1.62434536, -0.61175641],\n",
            "       [-0.52817175, -1.07296862],\n",
            "       [ 0.86540763, -2.3015387 ],\n",
            "       [ 1.74481176, -0.7612069 ],\n",
            "       [ 0.3190391 , -0.24937038],\n",
            "       [ 1.46210794, -2.06014071],\n",
            "       [-0.3224172 , -0.38405435],\n",
            "       [ 1.13376944, -1.09989127],\n",
            "       [-0.17242821, -0.87785842],\n",
            "       [ 0.04221375,  0.58281521],\n",
            "       [-1.10061918,  1.14472371],\n",
            "       [ 0.90159072,  0.50249434],\n",
            "       [ 0.90085595, -0.68372786],\n",
            "       [-0.12289023, -0.93576943],\n",
            "       [-0.26788808,  0.53035547],\n",
            "       [-0.69166075, -0.39675353],\n",
            "       [-0.6871727 , -0.84520564],\n",
            "       [-0.67124613, -0.0126646 ],\n",
            "       [-1.11731035,  0.2344157 ]]), 'b1': array([[0.],\n",
            "       [0.],\n",
            "       [0.],\n",
            "       [0.],\n",
            "       [0.],\n",
            "       [0.],\n",
            "       [0.],\n",
            "       [0.],\n",
            "       [0.],\n",
            "       [0.],\n",
            "       [0.],\n",
            "       [0.],\n",
            "       [0.],\n",
            "       [0.],\n",
            "       [0.],\n",
            "       [0.],\n",
            "       [0.],\n",
            "       [0.],\n",
            "       [0.]]), 'W2': array([[ 1.62434536, -0.61175641, -0.52817175, -1.07296862,  0.86540763,\n",
            "        -2.3015387 ,  1.74481176, -0.7612069 ,  0.3190391 , -0.24937038,\n",
            "         1.46210794, -2.06014071, -0.3224172 , -0.38405435,  1.13376944,\n",
            "        -1.09989127, -0.17242821, -0.87785842,  0.04221375]]), 'b2': array([[0.]])}\n",
            "{'W1': array([[ 1.62434536, -0.61175641],\n",
            "       [-0.52817175, -1.07296862],\n",
            "       [ 0.86540763, -2.3015387 ],\n",
            "       [ 1.74481176, -0.7612069 ],\n",
            "       [ 0.3190391 , -0.24937038],\n",
            "       [ 1.46210794, -2.06014071],\n",
            "       [-0.3224172 , -0.38405435],\n",
            "       [ 1.13376944, -1.09989127],\n",
            "       [-0.17242821, -0.87785842],\n",
            "       [ 0.04221375,  0.58281521],\n",
            "       [-1.10061918,  1.14472371],\n",
            "       [ 0.90159072,  0.50249434],\n",
            "       [ 0.90085595, -0.68372786],\n",
            "       [-0.12289023, -0.93576943],\n",
            "       [-0.26788808,  0.53035547],\n",
            "       [-0.69166075, -0.39675353],\n",
            "       [-0.6871727 , -0.84520564],\n",
            "       [-0.67124613, -0.0126646 ],\n",
            "       [-1.11731035,  0.2344157 ],\n",
            "       [ 1.65980218,  0.74204416]]), 'b1': array([[0.],\n",
            "       [0.],\n",
            "       [0.],\n",
            "       [0.],\n",
            "       [0.],\n",
            "       [0.],\n",
            "       [0.],\n",
            "       [0.],\n",
            "       [0.],\n",
            "       [0.],\n",
            "       [0.],\n",
            "       [0.],\n",
            "       [0.],\n",
            "       [0.],\n",
            "       [0.],\n",
            "       [0.],\n",
            "       [0.],\n",
            "       [0.],\n",
            "       [0.],\n",
            "       [0.]]), 'W2': array([[ 1.62434536, -0.61175641, -0.52817175, -1.07296862,  0.86540763,\n",
            "        -2.3015387 ,  1.74481176, -0.7612069 ,  0.3190391 , -0.24937038,\n",
            "         1.46210794, -2.06014071, -0.3224172 , -0.38405435,  1.13376944,\n",
            "        -1.09989127, -0.17242821, -0.87785842,  0.04221375,  0.58281521]]), 'b2': array([[0.]])}\n"
          ]
        }
      ]
    },
    {
      "cell_type": "code",
      "source": [
        "sonuc_cost"
      ],
      "metadata": {
        "id": "VNqvcOvb-1pz",
        "outputId": "51aa9bf0-5650-4f2a-df42-fcdc2f3f982f",
        "colab": {
          "base_uri": "https://localhost:8080/"
        }
      },
      "execution_count": 33,
      "outputs": [
        {
          "output_type": "execute_result",
          "data": {
            "text/plain": [
              "[0.5608925133507087,\n",
              " 0.3612042749177732,\n",
              " 0.01775146783994863,\n",
              " 0.017648673836049702,\n",
              " 0.017668771459854484,\n",
              " 0.017562289437372883,\n",
              " 0.015677677309373014,\n",
              " 0.013140558500364299,\n",
              " 0.01289130733169852,\n",
              " 0.012838495898869297,\n",
              " 0.012826284783023337,\n",
              " 0.012842571655168644,\n",
              " 0.01283539619316802,\n",
              " 0.012818421089565385,\n",
              " 0.012672280945411904,\n",
              " 0.012643321434304152,\n",
              " 0.012646097134778624,\n",
              " 0.012627053272143751,\n",
              " 0.012589834817395259,\n",
              " 0.012435419691572075]"
            ]
          },
          "metadata": {},
          "execution_count": 33
        }
      ]
    },
    {
      "cell_type": "code",
      "source": [
        "x = np.arange(1,1001)\n",
        "plt.figure(figsize=(8,6), dpi=80)\n",
        "plt.plot(x, cost_history)"
      ],
      "metadata": {
        "colab": {
          "base_uri": "https://localhost:8080/",
          "height": 430
        },
        "id": "zk_mfjChIorY",
        "outputId": "3842839e-af50-4f57-9cb4-dd5799c37551"
      },
      "execution_count": 34,
      "outputs": [
        {
          "output_type": "execute_result",
          "data": {
            "text/plain": [
              "[<matplotlib.lines.Line2D at 0x7fbb5ab23510>]"
            ]
          },
          "metadata": {},
          "execution_count": 34
        },
        {
          "output_type": "display_data",
          "data": {
            "text/plain": [
              "<Figure size 640x480 with 1 Axes>"
            ],
            "image/png": "[encoded data removed]"
          },
          "metadata": {
            "needs_background": "light"
          }
        }
      ]
    },
    {
      "cell_type": "code",
      "source": [
        "parameters = sonuc_parameters[3]\n",
        "parameters"
      ],
      "metadata": {
        "id": "fR91vMqBIotu",
        "colab": {
          "base_uri": "https://localhost:8080/"
        },
        "outputId": "bb461e59-472c-4e9b-a85d-b2a42e0964da"
      },
      "execution_count": 35,
      "outputs": [
        {
          "output_type": "execute_result",
          "data": {
            "text/plain": [
              "{'W1': array([[ 3.26217222,  0.48300274],\n",
              "        [-0.49675786, -3.21627567],\n",
              "        [ 1.70371496, -1.98178497],\n",
              "        [ 2.43753217, -2.11980753]]),\n",
              " 'W2': array([[ 3.22774745,  3.17000605, -1.4986005 , -2.8950198 ]]),\n",
              " 'b1': array([[-0.31409957],\n",
              "        [ 0.03132168],\n",
              "        [-0.28542896],\n",
              "        [-0.58804562]]),\n",
              " 'b2': array([[-4.53293332]])}"
            ]
          },
          "metadata": {},
          "execution_count": 35
        }
      ]
    },
    {
      "cell_type": "code",
      "source": [
        "cost_history[-1]"
      ],
      "metadata": {
        "colab": {
          "base_uri": "https://localhost:8080/"
        },
        "id": "LMxwGDicIowL",
        "outputId": "60fa2265-ad10-47ba-e9cc-7f778c90bb1b"
      },
      "execution_count": 36,
      "outputs": [
        {
          "output_type": "execute_result",
          "data": {
            "text/plain": [
              "0.012435419691572075"
            ]
          },
          "metadata": {},
          "execution_count": 36
        }
      ]
    },
    {
      "cell_type": "code",
      "source": [
        "cost"
      ],
      "metadata": {
        "colab": {
          "base_uri": "https://localhost:8080/"
        },
        "id": "WaeekCzjIoyc",
        "outputId": "5cf05c95-91d5-40da-fdf3-f588b427dc14"
      },
      "execution_count": 37,
      "outputs": [
        {
          "output_type": "execute_result",
          "data": {
            "text/plain": [
              "0.012435419691572075"
            ]
          },
          "metadata": {},
          "execution_count": 37
        }
      ]
    },
    {
      "cell_type": "code",
      "source": [
        "pg.dataset.random.seed(9)\n",
        "Datas = pg.dataset.DataGenerator.classify_xor(1000,noise=0.1)\n",
        "df = pd.DataFrame(Datas)\n",
        "df = df.sample(frac=1,random_state=1).reset_index(drop=True)\n",
        "df.loc[df.loc[:,2] ==-1,2]=0 #change the label which is 0 to -1\n",
        "# pd.set_option('display.max_rows', df.shape[0] + 1) ---> showing all row\n",
        "df1 = df[df[2] == 1]\n",
        "df2 = df[df[2] == 0]"
      ],
      "metadata": {
        "id": "C2lGzbynh861"
      },
      "execution_count": 42,
      "outputs": []
    },
    {
      "cell_type": "code",
      "source": [
        "from matplotlib.lines import Line2D\n",
        "def plot_decision_boundary(X, Y, cmap='RdBu_r'):\n",
        "\n",
        "  h = 0.5\n",
        "  x_min, x_max = X[0,:].min() - h, X[0,:].max() + h\n",
        "  y_min, y_max = X[1,:].min() - h, X[1,:].max() + h\n",
        "  xx, yy = np.meshgrid(np.arange(x_min, x_max, h),\n",
        "                        np.arange(y_min, y_max, h))\n",
        "  A2, cache = forward_prop(np.c_[xx.ravel(), yy.ravel()].T, parameters)\n",
        "  A2 = A2.reshape(xx.shape)\n",
        "\n",
        "  fig, ax = plt.subplots(figsize=(4,4), dpi=120)\n",
        "  \n",
        "  df1.plot.scatter(0 ,1 , s=25, c=\"red\", cmap=cmap, ax=ax)\n",
        "  df2.plot.scatter(0, 1, s=25, c=\"blue\", ax=ax, marker=\"^\", cmap=cmap)\n",
        "\n",
        "  ax.contourf(xx, yy, A2, cmap=cmap, alpha=0.25)\n",
        "  ax.contour(xx, yy, A2, colors='k', linewidths=0.1)\n",
        "\n",
        "  red_circle = Line2D([0], [0], marker='o', color='w', label='y = 1',markerfacecolor='r', markersize=10)\n",
        "  blue_circle = Line2D([0], [0], marker='^', color='w', label='y = 0',markerfacecolor='b', markersize=10)\n",
        "  ax.legend(handles=[red_circle,blue_circle], bbox_to_anchor=(1.025, 1.13), ncol=2)\n",
        "  \n",
        "  plt.xlabel(\"$\\mathbf{x_1}$\", fontsize=12, fontweight=\"bold\")\n",
        "  plt.ylabel(\"$\\mathbf{x_2}$\", fontsize=12, fontweight=\"bold\")\n",
        "\n",
        "plot_decision_boundary(X, Y)"
      ],
      "metadata": {
        "id": "t9phhhM8WLCT",
        "outputId": "5dd07d23-a81a-400d-d18c-d5bfbc8eaa2a",
        "colab": {
          "base_uri": "https://localhost:8080/",
          "height": 497
        }
      },
      "execution_count": 43,
      "outputs": [
        {
          "output_type": "display_data",
          "data": {
            "text/plain": [
              "<Figure size 480x480 with 1 Axes>"
            ],
            "image/png": "[encoded data removed]"
          },
          "metadata": {
            "needs_background": "light"
          }
        }
      ]
    },
    {
      "cell_type": "code",
      "source": [
        "np.round(sonuc_cost,6)"
      ],
      "metadata": {
        "id": "dn8wNqzXuBVR",
        "colab": {
          "base_uri": "https://localhost:8080/"
        },
        "outputId": "5cdc7d7c-6edf-4981-b8d4-f1f50e8f1edf"
      },
      "execution_count": 39,
      "outputs": [
        {
          "output_type": "execute_result",
          "data": {
            "text/plain": [
              "array([0.560893, 0.361204, 0.017751, 0.017649, 0.017669, 0.017562,\n",
              "       0.015678, 0.013141, 0.012891, 0.012838, 0.012826, 0.012843,\n",
              "       0.012835, 0.012818, 0.012672, 0.012643, 0.012646, 0.012627,\n",
              "       0.01259 , 0.012435])"
            ]
          },
          "metadata": {},
          "execution_count": 39
        }
      ]
    },
    {
      "cell_type": "code",
      "source": [
        ""
      ],
      "metadata": {
        "id": "T8U_t03TrxtV"
      },
      "execution_count": 39,
      "outputs": []
    }
  ]
}