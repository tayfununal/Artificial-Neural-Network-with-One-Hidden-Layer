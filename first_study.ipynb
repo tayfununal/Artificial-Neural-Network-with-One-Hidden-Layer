{
  "nbformat": 4,
  "nbformat_minor": 0,
  "metadata": {
    "colab": {
      "name": "first_study.ipynb",
      "private_outputs": true,
      "provenance": [],
      "authorship_tag": "ABX9TyOM4ZANY1+UBPcSPiDkmJsj",
      "include_colab_link": true
    },
    "kernelspec": {
      "name": "python3",
      "display_name": "Python 3"
    },
    "language_info": {
      "name": "python"
    }
  },
  "cells": [
    {
      "cell_type": "markdown",
      "metadata": {
        "id": "view-in-github",
        "colab_type": "text"
      },
      "source": [
        "<a href=\"https://colab.research.google.com/github/tayfununal/Artificial-Neural-Network-with-One-Hidden-Layer/blob/main/first_study.ipynb\" target=\"_parent\"><img src=\"https://colab.research.google.com/assets/colab-badge.svg\" alt=\"Open In Colab\"/></a>"
      ]
    },
    {
      "cell_type": "code",
      "metadata": {
        "id": "5geAZ_yelyn0"
      },
      "source": [
        "ort_cost= [0.554539,0.028810,0.022603,0.022235,0.021971,0.021762,0.021571,0.021397,\n",
        "            0.021267,0.021196,0.021181,0.021186,0.021242,0.021238,0.021360,0.021468,\n",
        "            0.021552,0.021745,0.022220,0.022528,0.022845]\n",
        "ort_test_cost =[0.560348,0.043696,0.038500,0.038730,0.039331,0.040380,0.041650,0.043311,\n",
        "                    0.045152,0.047516,0.049892,0.052441,0.054880,0.057134,0.059904,0.062378,\n",
        "                    0.064456,0.067110,0.070363,0.073598,0.076128]\n",
        "\n",
        "\n",
        "\n",
        "import matplotlib.pyplot as plt\n",
        "import numpy as np\n",
        "\n",
        "x = [1, 5, 10, 15, 20, 25, 30, 35, 40, 45, 50, 55, 60, 65, 70, 75, 80, 85, 90, 95, 100]\n",
        "ax = plt.subplot(111)\n",
        "ax.set_xlim(0,101)\n",
        "dim=[1, 5, 10, 15, 20, 25, 30, 35, 40, 45, 50, 55, 60, 65, 70, 75, 80, 85, 90, 95, 100]\n",
        "ax.plot(x,ort_cost, marker=\"^\",color=\"blue\")\n",
        "ax.plot(x,ort_test_cost, marker=\"o\",color=\"red\")\n",
        "plt.xticks(dim)\n",
        "plt.xlabel(\"Modelin gizli katmanındaki nöron sayısı\",fontsize=17,fontweight=\"bold\",fontname=\"Times New Roman\")\n",
        "plt.ylabel(\"Ortalama maliyet değerleri\",fontsize=17,fontweight=\"bold\",fontname=\"Times New Roman\")\n",
        "plt.legend((\"Ortalama maliyet değeri\", \"Ortalama test maliyet değeri\"),fontsize=17)\n",
        "plt.grid()\n",
        "plt.show()\n"
      ],
      "execution_count": null,
      "outputs": []
    }
  ]
}