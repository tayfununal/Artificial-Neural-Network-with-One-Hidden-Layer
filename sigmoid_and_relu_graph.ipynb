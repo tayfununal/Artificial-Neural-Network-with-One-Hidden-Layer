{
  "nbformat": 4,
  "nbformat_minor": 0,
  "metadata": {
    "colab": {
      "name": "sigmoid_and_relu_graph.ipynb",
      "private_outputs": true,
      "provenance": [],
      "authorship_tag": "ABX9TyNQSiaTRgBId+3LMfn45htK",
      "include_colab_link": true
    },
    "kernelspec": {
      "name": "python3",
      "display_name": "Python 3"
    },
    "language_info": {
      "name": "python"
    }
  },
  "cells": [
    {
      "cell_type": "markdown",
      "metadata": {
        "id": "view-in-github",
        "colab_type": "text"
      },
      "source": [
        "<a href=\"https://colab.research.google.com/github/tayfununal/Artificial-Neural-Network-with-One-Hidden-Layer/blob/main/sigmoid_and_relu_graph.ipynb\" target=\"_parent\"><img src=\"https://colab.research.google.com/assets/colab-badge.svg\" alt=\"Open In Colab\"/></a>"
      ]
    },
    {
      "cell_type": "code",
      "metadata": {
        "id": "3wpMUrrqufKQ"
      },
      "source": [
        "import numpy as np\n",
        "import matplotlib.pyplot as plt\n",
        "import tensorflow"
      ],
      "execution_count": null,
      "outputs": []
    },
    {
      "cell_type": "code",
      "metadata": {
        "id": "i2salZhAuin7"
      },
      "source": [
        "x = np.linspace(-10,10,100)"
      ],
      "execution_count": null,
      "outputs": []
    },
    {
      "cell_type": "code",
      "metadata": {
        "id": "I4w1Gyy4uops"
      },
      "source": [
        "y = tensorflow.keras.activations.sigmoid(x)"
      ],
      "execution_count": null,
      "outputs": []
    },
    {
      "cell_type": "code",
      "metadata": {
        "id": "weS6Q2oJupE-"
      },
      "source": [
        "plt.plot(x,y)\n",
        "plt.xlabel('x',fontsize=17,fontweight=\"bold\",fontname=\"Times New Roman\")\n",
        "plt.ylabel('σ(x)',fontsize=17,fontweight=\"bold\",fontname=\"Times New Roman\") \n",
        "plt.show()"
      ],
      "execution_count": null,
      "outputs": []
    },
    {
      "cell_type": "code",
      "metadata": {
        "id": "z9Ka91R4vFgQ"
      },
      "source": [
        "y = tensorflow.keras.activations.relu(x)"
      ],
      "execution_count": null,
      "outputs": []
    },
    {
      "cell_type": "code",
      "metadata": {
        "id": "Lsin9ltTvzGx"
      },
      "source": [
        "plt.plot(x,y)\n",
        "plt.xlabel('x',fontsize=17,fontweight=\"bold\",fontname=\"Times New Roman\")\n",
        "plt.ylabel('φ(x)',fontsize=17,fontweight=\"bold\",fontname=\"Times New Roman\") \n",
        "plt.show()"
      ],
      "execution_count": null,
      "outputs": []
    }
  ]
}