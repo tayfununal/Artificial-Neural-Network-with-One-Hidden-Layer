{
  "nbformat": 4,
  "nbformat_minor": 0,
  "metadata": {
    "colab": {
      "name": "new_revision.ipynb",
      "provenance": [],
      "authorship_tag": "ABX9TyM83uuouufrnuN7hIj2icH3",
      "include_colab_link": true
    },
    "kernelspec": {
      "name": "python3",
      "display_name": "Python 3"
    },
    "language_info": {
      "name": "python"
    },
    "accelerator": "GPU"
  },
  "cells": [
    {
      "cell_type": "markdown",
      "metadata": {
        "id": "view-in-github",
        "colab_type": "text"
      },
      "source": [
        "<a href=\"https://colab.research.google.com/github/tayfununal/Artificial-Neural-Network-with-One-Hidden-Layer/blob/main/new_revision.ipynb\" target=\"_parent\"><img src=\"https://colab.research.google.com/assets/colab-badge.svg\" alt=\"Open In Colab\"/></a>"
      ]
    },
    {
      "cell_type": "code",
      "execution_count": 377,
      "metadata": {
        "colab": {
          "base_uri": "https://localhost:8080/"
        },
        "id": "jLazAqdY_fOz",
        "outputId": "e4495319-867d-47ff-a9d5-7c7240f39589"
      },
      "outputs": [
        {
          "output_type": "stream",
          "name": "stdout",
          "text": [
            "Looking in indexes: https://pypi.org/simple, https://us-python.pkg.dev/colab-wheels/public/simple/\n",
            "Requirement already satisfied: playground-data in /usr/local/lib/python3.7/dist-packages (1.1.1)\n",
            "Requirement already satisfied: matplotlib in /usr/local/lib/python3.7/dist-packages (from playground-data) (3.2.2)\n",
            "Requirement already satisfied: numpy in /usr/local/lib/python3.7/dist-packages (from playground-data) (1.21.6)\n",
            "Requirement already satisfied: cycler>=0.10 in /usr/local/lib/python3.7/dist-packages (from matplotlib->playground-data) (0.11.0)\n",
            "Requirement already satisfied: pyparsing!=2.0.4,!=2.1.2,!=2.1.6,>=2.0.1 in /usr/local/lib/python3.7/dist-packages (from matplotlib->playground-data) (3.0.9)\n",
            "Requirement already satisfied: kiwisolver>=1.0.1 in /usr/local/lib/python3.7/dist-packages (from matplotlib->playground-data) (1.4.2)\n",
            "Requirement already satisfied: python-dateutil>=2.1 in /usr/local/lib/python3.7/dist-packages (from matplotlib->playground-data) (2.8.2)\n",
            "Requirement already satisfied: typing-extensions in /usr/local/lib/python3.7/dist-packages (from kiwisolver>=1.0.1->matplotlib->playground-data) (4.2.0)\n",
            "Requirement already satisfied: six>=1.5 in /usr/local/lib/python3.7/dist-packages (from python-dateutil>=2.1->matplotlib->playground-data) (1.15.0)\n"
          ]
        }
      ],
      "source": [
        "!pip install playground-data"
      ]
    },
    {
      "cell_type": "code",
      "source": [
        "import numpy as np\n",
        "import matplotlib.pyplot as plt\n",
        "import pandas as pd\n",
        "import plygdata as pg\n",
        "import json\n",
        "import requests"
      ],
      "metadata": {
        "id": "E8nJxNTi_mks"
      },
      "execution_count": 378,
      "outputs": []
    },
    {
      "cell_type": "code",
      "source": [
        "Datas = pg.dataset.DataGenerator.classify_circle(1000,noise=0.1)"
      ],
      "metadata": {
        "id": "9xYW_nwa_oFa"
      },
      "execution_count": 379,
      "outputs": []
    },
    {
      "cell_type": "code",
      "source": [
        "def initialization_parameters(x, y, num_node, random_seeds_one, random_seeds_two):\n",
        "    np.random.seed(random_seeds_one)\n",
        "    W1 = np.random.randn(num_node * x.shape[0]).reshape(num_node, x.shape[0])\n",
        "    b1 = np.zeros((num_node, 1))\n",
        "\n",
        "    np.random.seed(random_seeds_two)\n",
        "    W2 = np.random.randn(y.shape[0], num_node)\n",
        "    b2 = np.zeros((y.shape[0], 1))\n",
        "\n",
        "    assert W1.shape == (num_node, x.shape[0])\n",
        "    assert b1.shape == (num_node, 1)\n",
        "\n",
        "    assert W2.shape == (y.shape[0], num_node)\n",
        "    assert b2.shape == (y.shape[0], 1)\n",
        "\n",
        "    parameters = {'W1': W1,\n",
        "                  'b1': b1,\n",
        "                  'W2': W2,\n",
        "                  'b2': b2}\n",
        "    return parameters\n",
        "\n",
        "def sigmoid(x):\n",
        "    return 1 / (1 + np.exp(-x))\n",
        "\n",
        "\n",
        "def relu(x):\n",
        "    return np.maximum(0, x)\n",
        "\n",
        "\n",
        "def reluDerivative(x):\n",
        "    x[x <= 0] = 0\n",
        "    x[x > 0] = 1\n",
        "    return x\n",
        "\n",
        "\n",
        "def forward_prop(x, parameters):\n",
        "    W1 = parameters['W1']\n",
        "    b1 = parameters['b1']\n",
        "    W2 = parameters['W2']\n",
        "    b2 = parameters['b2']\n",
        "\n",
        "    Z1 = np.dot(W1, x) + b1\n",
        "    A1 = relu(Z1)\n",
        "    Z2 = np.dot(W2, A1) + b2\n",
        "    A2 = sigmoid(Z2)\n",
        "\n",
        "    assert (A2.shape == (1, x.shape[1]))\n",
        "    cache = {\n",
        "        'Z1': Z1,\n",
        "        'A1': A1,\n",
        "        'Z2': Z2,\n",
        "        'A2': A2\n",
        "    }\n",
        "    return A2, cache\n",
        "\n",
        "\n",
        "def backward_prop(x, y, parameters, baski_neuron, cache, learning_rate=0.1):\n",
        "    m = y.shape[1]\n",
        "\n",
        "    W1 = parameters['W1']\n",
        "    b1 = parameters['b1']\n",
        "    W2 = parameters['W2']\n",
        "    b2 = parameters['b2']\n",
        "\n",
        "    A1 = cache['A1']\n",
        "    A2 = cache['A2']\n",
        "\n",
        "    # Calculations of backward propagation: dW1, db1, dW2, db2\n",
        "    baski_W1 = np.zeros((baski_neuron, 2))\n",
        "    baski_W1[baski_neuron - 1, 0] = gama * W1[baski_neuron - 1, 0]\n",
        "    baski_W1[baski_neuron - 1, 1] = gama * W1[baski_neuron - 1, 1]\n",
        "\n",
        "    baski_W2 = np.zeros((1, baski_neuron))\n",
        "    baski_W2[0, baski_neuron - 1] = gama * W2[0, baski_neuron - 1]\n",
        "\n",
        "    baski_b1 = np.zeros((baski_neuron, 1))\n",
        "    baski_b1[baski_neuron - 1, 0] = gama * b1[baski_neuron - 1, 0]\n",
        "\n",
        "    dZ2 = A2 - Y\n",
        "    dW2 = (1.0 / m) * (np.dot(dZ2, A1.T) + baski_W2)\n",
        "    db2 = (1.0 / m) * np.sum(dZ2, axis=1, keepdims=True)\n",
        "    dZ1 = np.multiply(np.dot(W2.T, dZ2), reluDerivative(A1))\n",
        "    dW1 = (1.0 / m) * (np.dot(dZ1, X.T) + baski_W1)\n",
        "    db1 = (1.0 / m) * (np.sum(dZ1, axis=1, keepdims=True) + baski_b1)\n",
        "\n",
        "    # Updating parameters\n",
        "    W1 = W1 - learning_rate * dW1\n",
        "    b1 = b1 - learning_rate * db1\n",
        "    W2 = W2 - learning_rate * dW2\n",
        "    b2 = b2 - learning_rate * db2\n",
        "\n",
        "    parameters = {'W1': W1,\n",
        "                  'b1': b1,\n",
        "                  'W2': W2,\n",
        "                  'b2': b2}\n",
        "    return parameters\n",
        "\n",
        "\n",
        "def cross_entropy_cost(y, A2, baski_neuron):\n",
        "    m = y.shape[1]\n",
        "\n",
        "    W1 = parameters['W1']\n",
        "    b1 = parameters['b1']\n",
        "    W2 = parameters['W2']\n",
        "\n",
        "    cross_entropy = np.multiply(np.log(A2 + 1e-15), Y) + np.multiply((1 - Y), np.log(1 - A2 + 1e-15))\n",
        "    cost = (1.0 / m) * (- np.sum(cross_entropy) + (gama / 2.0) * (\n",
        "                W1[baski_neuron - 1, 0] ** 2 + W1[baski_neuron - 1, 1] ** 2 + W2[0, baski_neuron - 1] ** 2 + b1[\n",
        "            baski_neuron - 1, 0] ** 2))\n",
        "\n",
        "    # Squeezing to avoid unnecessary dimensions\n",
        "    cost = np.squeeze(cost)\n",
        "    return cost"
      ],
      "metadata": {
        "id": "YqY3J-5w_udE"
      },
      "execution_count": 380,
      "outputs": []
    },
    {
      "cell_type": "code",
      "source": [
        "def nn_model(x, y, parameters, baski_neuron, number_of_iter=1000):\n",
        "    A2, cache = forward_prop(x, parameters)\n",
        "    cost = cross_entropy_cost(y, A2, baski_neuron)\n",
        "    cost_history = []\n",
        "    cost_history.append(cost)\n",
        "    for i in range(1, number_of_iter):\n",
        "        parameters = backward_prop(x, y, parameters, baski_neuron, cache, learning_rate=0.6)\n",
        "        A2, cache = forward_prop(x, parameters)\n",
        "        cost = cross_entropy_cost(y, A2, baski_neuron)\n",
        "        cost_history.append(cost)\n",
        "    return cost, parameters, cost_history"
      ],
      "metadata": {
        "id": "U34J-kg_BYAV"
      },
      "execution_count": 381,
      "outputs": []
    },
    {
      "cell_type": "code",
      "source": [
        "df = pd.DataFrame(Datas)\n",
        "df = df.sample(frac=1,random_state=1).reset_index(drop=True)\n",
        "df.loc[df.loc[:,2] ==-1,2]=0 #change the label which is 0 to -1\n",
        "# pd.set_option('display.max_rows', df.shape[0]+1) ---> showing all row"
      ],
      "metadata": {
        "id": "YnvJSeSYBYC9"
      },
      "execution_count": 382,
      "outputs": []
    },
    {
      "cell_type": "code",
      "source": [
        "df1 = df[df[2] == 1]\n",
        "df2 = df[df[2] == 0]\n",
        "\n",
        "ax = df1.plot.scatter(0 ,1 , s=25, c=\"red\")\n",
        "df2.plot.scatter(0, 1, s=25, c=\"blue\", ax=ax, marker=\"^\")\n",
        "plt.xlabel(\"$x_1$\")\n",
        "plt.ylabel(\"$x_2$\")\n",
        "plt.show()"
      ],
      "metadata": {
        "colab": {
          "base_uri": "https://localhost:8080/",
          "height": 281
        },
        "id": "W9HmlbiPw1mD",
        "outputId": "27f37655-a322-4c44-b124-fc6b29dc79bd"
      },
      "execution_count": 383,
      "outputs": [
        {
          "output_type": "display_data",
          "data": {
            "text/plain": [
              "<Figure size 432x288 with 1 Axes>"
            ],
            "image/png": "[encoded data removed]"
          },
          "metadata": {
            "needs_background": "light"
          }
        }
      ]
    },
    {
      "cell_type": "code",
      "source": [
        "X = np.array(df[[0,1]]).T\n",
        "Y = np.array(df[[2]]).T"
      ],
      "metadata": {
        "id": "48TqN1jIBYIL"
      },
      "execution_count": 384,
      "outputs": []
    },
    {
      "cell_type": "code",
      "source": [
        "gama = 12\n",
        "number_of_neuron = 20\n",
        "parameters = initialization_parameters(X, Y, number_of_neuron, int(1), int(1))\n",
        "cost, parameters, cost_history = nn_model(X, Y, parameters, baski_neuron=number_of_neuron, number_of_iter=1000)"
      ],
      "metadata": {
        "id": "3YKRkOBGCCfb"
      },
      "execution_count": 385,
      "outputs": []
    },
    {
      "cell_type": "code",
      "source": [
        "x = np.arange(1,1001)\n",
        "\n",
        "plt.plot(x, cost_history)"
      ],
      "metadata": {
        "colab": {
          "base_uri": "https://localhost:8080/",
          "height": 282
        },
        "id": "cR4bg88h5PDR",
        "outputId": "69720557-2983-4833-cfd5-9ddc96b4c9a6"
      },
      "execution_count": 386,
      "outputs": [
        {
          "output_type": "execute_result",
          "data": {
            "text/plain": [
              "[<matplotlib.lines.Line2D at 0x7f943b19f790>]"
            ]
          },
          "metadata": {},
          "execution_count": 386
        },
        {
          "output_type": "display_data",
          "data": {
            "text/plain": [
              "<Figure size 432x288 with 1 Axes>"
            ],
            "image/png": "[encoded data removed]"
          },
          "metadata": {
            "needs_background": "light"
          }
        }
      ]
    },
    {
      "cell_type": "code",
      "source": [
        "parameters"
      ],
      "metadata": {
        "colab": {
          "base_uri": "https://localhost:8080/"
        },
        "id": "9zprdkzk61LJ",
        "outputId": "7aa8f81c-84e2-44a8-88ae-699e862f55e9"
      },
      "execution_count": 387,
      "outputs": [
        {
          "output_type": "execute_result",
          "data": {
            "text/plain": [
              "{'W1': array([[ 1.50569410e+00, -6.12531228e-01],\n",
              "        [-6.12496487e-01, -1.27151919e+00],\n",
              "        [ 6.88874685e-01, -2.44424545e+00],\n",
              "        [ 1.94711787e+00, -4.97364925e-01],\n",
              "        [ 7.15607645e-02, -1.84529309e-01],\n",
              "        [ 1.27370843e+00, -1.62950490e+00],\n",
              "        [ 1.09341448e-01, -4.00772153e-01],\n",
              "        [ 1.19605515e+00, -7.55054562e-01],\n",
              "        [-2.22097825e-01, -7.57172515e-01],\n",
              "        [-1.78652284e-01,  9.63120344e-01],\n",
              "        [-7.31022140e-01,  7.10810354e-01],\n",
              "        [ 1.55337823e+00,  1.20821963e+00],\n",
              "        [ 9.53096103e-01, -4.76939260e-01],\n",
              "        [-3.83309737e-02, -1.12614777e+00],\n",
              "        [ 1.26906624e-02,  5.84157485e-02],\n",
              "        [-1.01259768e+00, -6.20162556e-02],\n",
              "        [-7.18378552e-01, -8.55689429e-01],\n",
              "        [-1.28315602e+00,  5.65014659e-01],\n",
              "        [-1.22217388e+00,  4.44145017e-01],\n",
              "        [ 1.22511192e-03,  3.67423631e-04]]),\n",
              " 'W2': array([[ 2.12130815e+00, -1.08867610e+00, -9.94028656e-01,\n",
              "         -1.35247432e+00,  1.19873867e+00, -2.18562177e+00,\n",
              "          2.71915754e+00, -5.41924656e-01,  3.47603920e-01,\n",
              "         -8.81641979e-01,  9.35214257e-01, -2.67315479e+00,\n",
              "         -2.65329392e-01, -7.81053847e-01,  1.13364566e+00,\n",
              "         -1.45777100e+00, -3.57745448e-01, -1.52945971e+00,\n",
              "         -7.15843878e-01,  4.54876314e-04]]),\n",
              " 'b1': array([[ 1.53048433e+00],\n",
              "        [-4.95393816e-01],\n",
              "        [-8.49075471e-02],\n",
              "        [-2.98984711e-01],\n",
              "        [ 9.69031713e-01],\n",
              "        [-1.38107252e+00],\n",
              "        [ 2.20726967e+00],\n",
              "        [-3.11751999e-01],\n",
              "        [ 4.27592503e-01],\n",
              "        [-2.82530860e-01],\n",
              "        [ 4.61627297e-01],\n",
              "        [-8.29031081e-01],\n",
              "        [-1.11260166e-01],\n",
              "        [-2.53442553e-01],\n",
              "        [ 7.21869031e-01],\n",
              "        [-7.97674410e-01],\n",
              "        [-1.13616602e-01],\n",
              "        [-3.72727540e-01],\n",
              "        [-1.46910626e-01],\n",
              "        [ 1.33105815e-04]]),\n",
              " 'b2': array([[1.21228215]])}"
            ]
          },
          "metadata": {},
          "execution_count": 387
        }
      ]
    },
    {
      "cell_type": "code",
      "source": [
        "cost_history[-1]"
      ],
      "metadata": {
        "colab": {
          "base_uri": "https://localhost:8080/"
        },
        "id": "hsG4rlTl62oh",
        "outputId": "5b6a6ff9-d4d8-486c-af8a-ef03df7fa90d"
      },
      "execution_count": 388,
      "outputs": [
        {
          "output_type": "execute_result",
          "data": {
            "text/plain": [
              "0.07556464909557943"
            ]
          },
          "metadata": {},
          "execution_count": 388
        }
      ]
    },
    {
      "cell_type": "code",
      "source": [
        "cost"
      ],
      "metadata": {
        "id": "fiz94_wAkQmq",
        "outputId": "612fb294-81a7-4741-dc0c-ba9f108d4d6f",
        "colab": {
          "base_uri": "https://localhost:8080/"
        }
      },
      "execution_count": 389,
      "outputs": [
        {
          "output_type": "execute_result",
          "data": {
            "text/plain": [
              "0.07556464909557943"
            ]
          },
          "metadata": {},
          "execution_count": 389
        }
      ]
    },
    {
      "cell_type": "code",
      "source": [
        ""
      ],
      "metadata": {
        "id": "eMV6uKALkU8J"
      },
      "execution_count": 389,
      "outputs": []
    }
  ]
}