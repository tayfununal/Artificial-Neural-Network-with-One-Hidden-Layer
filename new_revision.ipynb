{
  "nbformat": 4,
  "nbformat_minor": 0,
  "metadata": {
    "colab": {
      "name": "new_revision.ipynb",
      "provenance": [],
      "authorship_tag": "ABX9TyOsri3DbBzFbldnOGpCVbop",
      "include_colab_link": true
    },
    "kernelspec": {
      "name": "python3",
      "display_name": "Python 3"
    },
    "language_info": {
      "name": "python"
    },
    "accelerator": "GPU"
  },
  "cells": [
    {
      "cell_type": "markdown",
      "metadata": {
        "id": "view-in-github",
        "colab_type": "text"
      },
      "source": [
        "<a href=\"https://colab.research.google.com/github/tayfununal/Artificial-Neural-Network-with-One-Hidden-Layer/blob/main/new_revision.ipynb\" target=\"_parent\"><img src=\"https://colab.research.google.com/assets/colab-badge.svg\" alt=\"Open In Colab\"/></a>"
      ]
    },
    {
      "cell_type": "code",
      "execution_count": 58,
      "metadata": {
        "colab": {
          "base_uri": "https://localhost:8080/"
        },
        "id": "jLazAqdY_fOz",
        "outputId": "b6e38eed-ca6f-490d-bc3f-e35489815e7b"
      },
      "outputs": [
        {
          "output_type": "stream",
          "name": "stdout",
          "text": [
            "Looking in indexes: https://pypi.org/simple, https://us-python.pkg.dev/colab-wheels/public/simple/\n",
            "Requirement already satisfied: playground-data in /usr/local/lib/python3.7/dist-packages (1.1.1)\n",
            "Requirement already satisfied: numpy in /usr/local/lib/python3.7/dist-packages (from playground-data) (1.21.6)\n",
            "Requirement already satisfied: matplotlib in /usr/local/lib/python3.7/dist-packages (from playground-data) (3.2.2)\n",
            "Requirement already satisfied: pyparsing!=2.0.4,!=2.1.2,!=2.1.6,>=2.0.1 in /usr/local/lib/python3.7/dist-packages (from matplotlib->playground-data) (3.0.9)\n",
            "Requirement already satisfied: kiwisolver>=1.0.1 in /usr/local/lib/python3.7/dist-packages (from matplotlib->playground-data) (1.4.2)\n",
            "Requirement already satisfied: cycler>=0.10 in /usr/local/lib/python3.7/dist-packages (from matplotlib->playground-data) (0.11.0)\n",
            "Requirement already satisfied: python-dateutil>=2.1 in /usr/local/lib/python3.7/dist-packages (from matplotlib->playground-data) (2.8.2)\n",
            "Requirement already satisfied: typing-extensions in /usr/local/lib/python3.7/dist-packages (from kiwisolver>=1.0.1->matplotlib->playground-data) (4.2.0)\n",
            "Requirement already satisfied: six>=1.5 in /usr/local/lib/python3.7/dist-packages (from python-dateutil>=2.1->matplotlib->playground-data) (1.15.0)\n"
          ]
        }
      ],
      "source": [
        "!pip install playground-data"
      ]
    },
    {
      "cell_type": "code",
      "source": [
        "import numpy as np\n",
        "import matplotlib.pyplot as plt\n",
        "import pandas as pd\n",
        "import plygdata as pg\n",
        "import json\n",
        "import requests"
      ],
      "metadata": {
        "id": "E8nJxNTi_mks"
      },
      "execution_count": 59,
      "outputs": []
    },
    {
      "cell_type": "code",
      "source": [
        "Datas = pg.dataset.DataGenerator.classify_spiral(1000,noise=0.1)"
      ],
      "metadata": {
        "id": "9xYW_nwa_oFa"
      },
      "execution_count": 60,
      "outputs": []
    },
    {
      "cell_type": "code",
      "source": [
        "def initialization_parameters(x, y, num_node, random_seeds_one, random_seeds_two):\n",
        "    np.random.seed(random_seeds_one)\n",
        "    W1 = np.random.randn(num_node * x.shape[0]).reshape(num_node, x.shape[0])\n",
        "    b1 = np.zeros((num_node, 1))\n",
        "\n",
        "    np.random.seed(random_seeds_two)\n",
        "    W2 = np.random.randn(y.shape[0], num_node)\n",
        "    b2 = np.zeros((y.shape[0], 1))\n",
        "\n",
        "    assert W1.shape == (num_node, x.shape[0])\n",
        "    assert b1.shape == (num_node, 1)\n",
        "\n",
        "    assert W2.shape == (y.shape[0], num_node)\n",
        "    assert b2.shape == (y.shape[0], 1)\n",
        "\n",
        "    parameters = {'W1': W1,\n",
        "                  'b1': b1,\n",
        "                  'W2': W2,\n",
        "                  'b2': b2}\n",
        "    return parameters\n",
        "\n",
        "def sigmoid(x):\n",
        "    return 1 / (1 + np.exp(-x))\n",
        "\n",
        "\n",
        "def relu(x):\n",
        "    return np.maximum(0, x)\n",
        "\n",
        "\n",
        "def reluDerivative(x):\n",
        "    x[x <= 0] = 0\n",
        "    x[x > 0] = 1\n",
        "    return x\n",
        "\n",
        "\n",
        "def forward_prop(x, parameters):\n",
        "    W1 = parameters['W1']\n",
        "    b1 = parameters['b1']\n",
        "    W2 = parameters['W2']\n",
        "    b2 = parameters['b2']\n",
        "\n",
        "    Z1 = np.dot(W1, x) + b1\n",
        "    A1 = relu(Z1)\n",
        "    Z2 = np.dot(W2, A1) + b2\n",
        "    A2 = sigmoid(Z2)\n",
        "\n",
        "    assert (A2.shape == (1, x.shape[1]))\n",
        "    cache = {\n",
        "        'Z1': Z1,\n",
        "        'A1': A1,\n",
        "        'Z2': Z2,\n",
        "        'A2': A2\n",
        "    }\n",
        "    return A2, cache\n",
        "\n",
        "\n",
        "def backward_prop(x, y, parameters, baski_neuron, cache, learning_rate=0.1):\n",
        "    m = y.shape[1]\n",
        "\n",
        "    W1 = parameters['W1']\n",
        "    b1 = parameters['b1']\n",
        "    W2 = parameters['W2']\n",
        "    b2 = parameters['b2']\n",
        "\n",
        "    A1 = cache['A1']\n",
        "    A2 = cache['A2']\n",
        "\n",
        "    # Calculations of backward propagation: dW1, db1, dW2, db2\n",
        "    baski_W1 = np.zeros((baski_neuron, 2))\n",
        "    baski_W1[baski_neuron - 1, 0] = gama * W1[baski_neuron - 1, 0]\n",
        "    baski_W1[baski_neuron - 1, 1] = gama * W1[baski_neuron - 1, 1]\n",
        "\n",
        "    baski_W2 = np.zeros((1, baski_neuron))\n",
        "    baski_W2[0, baski_neuron - 1] = gama * W2[0, baski_neuron - 1]\n",
        "\n",
        "    baski_b1 = np.zeros((baski_neuron, 1))\n",
        "    baski_b1[baski_neuron - 1, 0] = gama * b1[baski_neuron - 1, 0]\n",
        "\n",
        "    dZ2 = A2 - Y\n",
        "    dW2 = (1.0 / m) * (np.dot(dZ2, A1.T) + baski_W2)\n",
        "    db2 = (1.0 / m) * np.sum(dZ2, axis=1, keepdims=True)\n",
        "    dZ1 = np.multiply(np.dot(W2.T, dZ2), reluDerivative(A1))\n",
        "    dW1 = (1.0 / m) * (np.dot(dZ1, X.T) + baski_W1)\n",
        "    db1 = (1.0 / m) * (np.sum(dZ1, axis=1, keepdims=True) + baski_b1)\n",
        "\n",
        "    # Updating parameters\n",
        "    W1 = W1 - learning_rate * dW1\n",
        "    b1 = b1 - learning_rate * db1\n",
        "    W2 = W2 - learning_rate * dW2\n",
        "    b2 = b2 - learning_rate * db2\n",
        "\n",
        "    parameters = {'W1': W1,\n",
        "                  'b1': b1,\n",
        "                  'W2': W2,\n",
        "                  'b2': b2}\n",
        "    return parameters\n",
        "\n",
        "\n",
        "def cross_entropy_cost(y, A2, baski_neuron):\n",
        "    m = y.shape[1]\n",
        "\n",
        "    W1 = parameters['W1']\n",
        "    b1 = parameters['b1']\n",
        "    W2 = parameters['W2']\n",
        "\n",
        "    cross_entropy = np.multiply(np.log(A2 + 1e-15), Y) + np.multiply((1 - Y), np.log(1 - A2 + 1e-15))\n",
        "    cost = (1.0 / m) * (- np.sum(cross_entropy) + (gama / 2.0) * (\n",
        "                W1[baski_neuron - 1, 0] ** 2 + W1[baski_neuron - 1, 1] ** 2 + W2[0, baski_neuron - 1] ** 2 + b1[\n",
        "            baski_neuron - 1, 0] ** 2))\n",
        "\n",
        "    # Squeezing to avoid unnecessary dimensions\n",
        "    cost = np.squeeze(cost)\n",
        "    return cost"
      ],
      "metadata": {
        "id": "YqY3J-5w_udE"
      },
      "execution_count": 61,
      "outputs": []
    },
    {
      "cell_type": "code",
      "source": [
        "def nn_model(x, y, parameters, baski_neuron, number_of_iter=1000):\n",
        "    A2, cache = forward_prop(x, parameters)\n",
        "    cost = cross_entropy_cost(y, A2, baski_neuron)\n",
        "\n",
        "    for i in range(1, number_of_iter):\n",
        "        parameters = backward_prop(x, y, parameters, baski_neuron, cache, learning_rate=0.6)\n",
        "        A2, cache = forward_prop(x, parameters)\n",
        "        cost = cross_entropy_cost(y, A2, baski_neuron)\n",
        "\n",
        "    return cost, parameters"
      ],
      "metadata": {
        "id": "U34J-kg_BYAV"
      },
      "execution_count": 62,
      "outputs": []
    },
    {
      "cell_type": "code",
      "source": [
        "df = pd.DataFrame(Datas)\n",
        "df = df.sample(frac=1,random_state=1).reset_index()\n",
        "# pd.set_option('display.max_rows', df.shape[0]+1) ---> showing all row"
      ],
      "metadata": {
        "id": "YnvJSeSYBYC9"
      },
      "execution_count": 63,
      "outputs": []
    },
    {
      "cell_type": "code",
      "source": [
        "df1 = df[df[2] == 1]\n",
        "df2 = df[df[2] == -1]\n",
        "\n",
        "ax = df1.plot.scatter(0 ,1 , s=25, c=\"red\")\n",
        "df2.plot.scatter(0, 1, s=25, c=\"blue\", ax=ax, marker=\"^\")\n",
        "plt.xlabel(\"$x_1$\")\n",
        "plt.ylabel(\"$x_2$\")\n",
        "plt.show()"
      ],
      "metadata": {
        "colab": {
          "base_uri": "https://localhost:8080/",
          "height": 281
        },
        "id": "W9HmlbiPw1mD",
        "outputId": "d83c42c5-7a75-492f-e71f-43214c31d48e"
      },
      "execution_count": 83,
      "outputs": [
        {
          "output_type": "display_data",
          "data": {
            "text/plain": [
              "<Figure size 432x288 with 1 Axes>"
            ],
            "image/png": "[encoded data removed]"
          },
          "metadata": {
            "needs_background": "light"
          }
        }
      ]
    },
    {
      "cell_type": "code",
      "source": [
        "X = np.array(df[[0,1]]).T\n",
        "Y = np.array(df[[2]]).T"
      ],
      "metadata": {
        "id": "48TqN1jIBYIL"
      },
      "execution_count": 65,
      "outputs": []
    },
    {
      "cell_type": "code",
      "source": [
        "gama = 12\n",
        "number_of_neuron = 5\n",
        "parameters = initialization_parameters(X, Y, number_of_neuron, int(1), int(1))\n",
        "cost, parameters = nn_model(X, Y, parameters, baski_neuron=number_of_neuron, number_of_iter=1000)"
      ],
      "metadata": {
        "id": "3YKRkOBGCCfb",
        "colab": {
          "base_uri": "https://localhost:8080/"
        },
        "outputId": "921be45a-8c92-4815-b8c3-bc5f2363dd48"
      },
      "execution_count": 79,
      "outputs": [
        {
          "output_type": "stream",
          "name": "stderr",
          "text": [
            "/usr/local/lib/python3.7/dist-packages/ipykernel_launcher.py:23: RuntimeWarning: overflow encountered in exp\n"
          ]
        }
      ]
    },
    {
      "cell_type": "code",
      "source": [
        "cost"
      ],
      "metadata": {
        "colab": {
          "base_uri": "https://localhost:8080/"
        },
        "id": "cR4bg88h5PDR",
        "outputId": "8e506683-4b9d-45b0-95d8-2d2398fefc54"
      },
      "execution_count": 80,
      "outputs": [
        {
          "output_type": "execute_result",
          "data": {
            "text/plain": [
              "-2.7587161781103138"
            ]
          },
          "metadata": {},
          "execution_count": 80
        }
      ]
    },
    {
      "cell_type": "code",
      "source": [
        "parameters"
      ],
      "metadata": {
        "colab": {
          "base_uri": "https://localhost:8080/"
        },
        "id": "9zprdkzk61LJ",
        "outputId": "c4bf1c93-fb86-4915-c63d-98eac99b8b9b"
      },
      "execution_count": 81,
      "outputs": [
        {
          "output_type": "execute_result",
          "data": {
            "text/plain": [
              "{'W1': array([[ 2.97631722e-01, -3.76068504e+00],\n",
              "        [-5.08342911e+59,  3.31334416e+61],\n",
              "        [ 2.76355522e-01, -4.39857941e+00],\n",
              "        [-3.14235407e+61,  1.20777500e+64],\n",
              "        [-7.54316126e-02, -5.38915153e-02]]),\n",
              " 'W2': array([[ 4.51826257e+00, -3.65873251e+61, -2.55074470e+00,\n",
              "         -1.32979493e+64,  7.74838386e-02]]),\n",
              " 'b1': array([[ 3.22072746e+00],\n",
              "        [ 1.55096650e+61],\n",
              "        [-4.99211842e+00],\n",
              "        [ 5.56438887e+63],\n",
              "        [-5.37536907e-02]]),\n",
              " 'b2': array([[-47.18673404]])}"
            ]
          },
          "metadata": {},
          "execution_count": 81
        }
      ]
    },
    {
      "cell_type": "code",
      "source": [
        ""
      ],
      "metadata": {
        "id": "hsG4rlTl62oh"
      },
      "execution_count": null,
      "outputs": []
    }
  ]
}