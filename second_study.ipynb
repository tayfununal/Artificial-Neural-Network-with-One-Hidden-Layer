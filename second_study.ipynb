{
  "nbformat": 4,
  "nbformat_minor": 0,
  "metadata": {
    "colab": {
      "name": "second_study.ipynb",
      "private_outputs": true,
      "provenance": [],
      "authorship_tag": "ABX9TyPVEHLbPykAKqXQQXKuB95H",
      "include_colab_link": true
    },
    "kernelspec": {
      "name": "python3",
      "display_name": "Python 3"
    },
    "language_info": {
      "name": "python"
    }
  },
  "cells": [
    {
      "cell_type": "markdown",
      "metadata": {
        "id": "view-in-github",
        "colab_type": "text"
      },
      "source": [
        "<a href=\"https://colab.research.google.com/github/tayfununal/Artificial-Neural-Network-with-One-Hidden-Layer/blob/main/second_study.ipynb\" target=\"_parent\"><img src=\"https://colab.research.google.com/assets/colab-badge.svg\" alt=\"Open In Colab\"/></a>"
      ]
    },
    {
      "cell_type": "code",
      "metadata": {
        "id": "gu2trD4xnukP"
      },
      "source": [
        "ort_cost = [0.554539,0.356986,0.148057,0.052143,0.028810,0.024475,0.023342,0.022937,\n",
        "                0.022913,0.022603,0.022559,0.022461,0.022402,0.022285,0.022235,0.022137,\n",
        "                0.022089,0.022038,0.021994,0.021971]\n",
        "\n",
        "ort_test_cost = [0.560348,0.364892,0.159855,0.065962,0.043696,0.039699,0.038881,0.038603,\n",
        "                    0.038681,0.038500,0.038556,0.038532,0.038586,0.038635,0.038730,0.038793,\n",
        "                    0.038895,0.039027,0.039178,0.039331]\n",
        "import matplotlib.pyplot as plt\n",
        "import numpy as np\n",
        "\n",
        "x = [i for i in range(1,21)]\n",
        "\n",
        "ax = plt.subplot(111)\n",
        "ax.set_xlim(0, 21)\n",
        "dim=np.arange(0,21,1);\n",
        "ax.plot(x,ort_cost, marker=\"^\",color=\"blue\")\n",
        "ax.plot(x,ort_test_cost, marker=\"o\",color=\"red\")\n",
        "plt.xticks(dim)\n",
        "plt.xlabel(\"Modelin gizli katmanındaki nöron sayısı\",fontsize=17,fontweight=\"bold\",fontname=\"Times New Roman\")\n",
        "plt.ylabel(\"Ortalama maliyet değerleri\",fontsize=17,fontweight=\"bold\",fontname=\"Times New Roman\")\n",
        "plt.legend((\"Ortalama maliyet değeri\", \"Ortalama test maliyet değeri\"),fontsize=17)\n",
        "plt.grid()\n",
        "plt.show()"
      ],
      "execution_count": null,
      "outputs": []
    }
  ]
}